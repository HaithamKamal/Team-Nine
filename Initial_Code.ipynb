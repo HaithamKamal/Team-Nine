{
 "cells": [
  {
   "cell_type": "code",
   "execution_count": 9,
   "metadata": {},
   "outputs": [],
   "source": [
    "#Dependencies and Setup\n",
    "import gmaps\n",
    "import numpy as np\n",
    "import pandas as pd\n",
    "import requests\n",
    "import time\n",
    "from us import states\n",
    "from scipy.stats import linregress\n",
    "from matplotlib import pyplot as plt\n",
    "\n",
    "from config_z import (gkey)\n",
    "gmaps.configure(api_key=gkey)\n",
    "\n",
    "#warnings.filterwarnings('ignore')\n",
    "\n",
    "#File to Load (Remember to Change These)\n",
    "file_to_load = \"IRS_Data_2015_CSV.csv\"\n",
    "file_to_load_2 = \"MplsZipcodes.csv\"\n",
    "\n",
    "#Read Purchasing File and store into Pandas data frame\n",
    "IRS_data = pd.read_csv(file_to_load)\n",
    "Zip_data = pd.read_csv(file_to_load_2)"
   ]
  },
  {
   "cell_type": "code",
   "execution_count": 10,
   "metadata": {},
   "outputs": [],
   "source": [
    "IRS_data = pd.read_csv('IRS_Data_2015_CSV.csv' , usecols = ['Zip codes','-1','-17'])"
   ]
  },
  {
   "cell_type": "code",
   "execution_count": 11,
   "metadata": {},
   "outputs": [],
   "source": [
    "IRS_data = IRS_data.dropna()"
   ]
  },
  {
   "cell_type": "code",
   "execution_count": 12,
   "metadata": {},
   "outputs": [],
   "source": [
    "IRS_data_fliterd = IRS_data.drop_duplicates('Zip codes')"
   ]
  },
  {
   "cell_type": "code",
   "execution_count": 13,
   "metadata": {},
   "outputs": [],
   "source": [
    "IRS_data_cleaned = IRS_data_fliterd.rename (columns={\"-1\":\"Number of returns\",\"-17\":\"Total income amount\"})\n",
    "IRS_data_cleaned[\"Zip codes\"] = (IRS_data_cleaned[\"Zip codes\"]).astype(int)"
   ]
  },
  {
   "cell_type": "code",
   "execution_count": 32,
   "metadata": {},
   "outputs": [],
   "source": [
    "combined_zip_codes = pd.merge(Zip_data, IRS_data_cleaned, on=\"Zip codes\")\n"
   ]
  },
  {
   "cell_type": "code",
   "execution_count": 15,
   "metadata": {},
   "outputs": [],
   "source": [
    "zip_locations = combined_zip_codes[[\"Lat\", \"Long\"]].astype(float)"
   ]
  },
  {
   "cell_type": "code",
   "execution_count": 31,
   "metadata": {},
   "outputs": [
    {
     "data": {
      "application/vnd.jupyter.widget-view+json": {
       "model_id": "18f7a8fd1f14422088189307b7350506",
       "version_major": 2,
       "version_minor": 0
      },
      "text/plain": [
       "Figure(layout=FigureLayout(height='420px'))"
      ]
     },
     "metadata": {},
     "output_type": "display_data"
    }
   ],
   "source": [
    "zip_dots = gmaps.symbol_layer(\n",
    "    zip_locations, fill_color='rgba(500, 0, 0, 0.4)',\n",
    "    stroke_color='rgba(500, 0, 0, 0.4)', scale=2,)\n",
    "\n",
    "fig = gmaps.figure()\n",
    "fig.add_layer(zip_dots)\n",
    "fig\n"
   ]
  },
  {
   "cell_type": "code",
   "execution_count": null,
   "metadata": {},
   "outputs": [],
   "source": []
  }
 ],
 "metadata": {
  "kernelspec": {
   "display_name": "Python 3",
   "language": "python",
   "name": "python3"
  },
  "language_info": {
   "codemirror_mode": {
    "name": "ipython",
    "version": 3
   },
   "file_extension": ".py",
   "mimetype": "text/x-python",
   "name": "python",
   "nbconvert_exporter": "python",
   "pygments_lexer": "ipython3",
   "version": "3.6.10"
  }
 },
 "nbformat": 4,
 "nbformat_minor": 4
}
