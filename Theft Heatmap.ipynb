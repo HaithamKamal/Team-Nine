{
 "cells": [
  {
   "cell_type": "code",
   "execution_count": 1,
   "metadata": {},
   "outputs": [],
   "source": [
    "# Dependencies\n",
    "import gmaps\n",
    "import numpy as np\n",
    "import pandas as pd\n",
    "import requests\n",
    "import time\n",
    "from us import states\n",
    "from scipy.stats import linregress\n",
    "from matplotlib import pyplot as plt\n",
    "\n",
    "from config_z import (gkey)\n",
    "\n",
    "# Configure gmaps with API key\n",
    "gmaps.configure(api_key=gkey)"
   ]
  },
  {
   "cell_type": "code",
   "execution_count": 2,
   "metadata": {},
   "outputs": [],
   "source": [
    "theft_df = pd.read_csv('theft_df.csv')"
   ]
  },
  {
   "cell_type": "code",
   "execution_count": 4,
   "metadata": {},
   "outputs": [],
   "source": [
    "# Store 'Lat' and 'Lng' into  locations for theft\n",
    "locations_theft = theft_df[[\"Lat\", \"Long\"]].astype(float)"
   ]
  },
  {
   "cell_type": "code",
   "execution_count": 5,
   "metadata": {},
   "outputs": [
    {
     "data": {
      "application/vnd.jupyter.widget-view+json": {
       "model_id": "5d5cd08697604551ab5e7d9587f4ed45",
       "version_major": 2,
       "version_minor": 0
      },
      "text/plain": [
       "Figure(layout=FigureLayout(height='420px'))"
      ]
     },
     "metadata": {},
     "output_type": "display_data"
    }
   ],
   "source": [
    "# Create bank symbol layer\n",
    "theft_dots = gmaps.symbol_layer(\n",
    "    locations_theft, fill_color='rgba(0, 150, 0, 0.4)',\n",
    "    stroke_color='rgba(350, 0, 0, 0.4)', scale=2,)\n",
    "\n",
    "fig = gmaps.figure()\n",
    "fig.add_layer(theft_dots)\n",
    "fig"
   ]
  },
  {
   "cell_type": "code",
   "execution_count": 6,
   "metadata": {},
   "outputs": [],
   "source": [
    "#File to Load (Remember to Change These)\n",
    "file_to_load = \"IRS_Data_2015_CSV.csv\"\n",
    "file_to_load_2 = \"MplsZipcodes.csv\"\n",
    "\n",
    "#Read Purchasing File and store into Pandas data frame\n",
    "IRS_data = pd.read_csv(file_to_load)\n",
    "Zip_data = pd.read_csv(file_to_load_2)"
   ]
  },
  {
   "cell_type": "code",
   "execution_count": 7,
   "metadata": {},
   "outputs": [],
   "source": [
    "IRS_data = pd.read_csv('IRS_Data_2015_CSV.csv' , usecols = ['Zip codes','-1','-17'])\n",
    "IRS_data = IRS_data.dropna()\n",
    "IRS_data_fliterd = IRS_data.drop_duplicates('Zip codes')\n",
    "IRS_data_cleaned = IRS_data_fliterd.rename (columns={\"-1\":\"Number of returns\",\"-17\":\"Total income amount\"})\n",
    "IRS_data_cleaned[\"Zip codes\"] = (IRS_data_cleaned[\"Zip codes\"]).astype(int)\n",
    "combined_zip_codes = pd.merge(Zip_data, IRS_data_cleaned, on=\"Zip codes\")\n",
    "income = combined_zip_codes['Total income amount'].str.replace(\",\",'')\n",
    "income = income.astype(int)\n",
    "income = income.div(100000)\n"
   ]
  },
  {
   "cell_type": "code",
   "execution_count": 8,
   "metadata": {},
   "outputs": [],
   "source": [
    "# Store 'Lat' and 'Lng' into  locations for zip codes\n",
    "zip_locations = combined_zip_codes[[\"Lat\", \"Long\"]].astype(float)"
   ]
  },
  {
   "cell_type": "code",
   "execution_count": 11,
   "metadata": {},
   "outputs": [
    {
     "data": {
      "application/vnd.jupyter.widget-view+json": {
       "model_id": "4962d1f365b1445a9c844a8fb309abae",
       "version_major": 2,
       "version_minor": 0
      },
      "text/plain": [
       "Figure(layout=FigureLayout(height='420px'))"
      ]
     },
     "metadata": {},
     "output_type": "display_data"
    }
   ],
   "source": [
    "# Create a poverty Heatmap layer\n",
    "fig = gmaps.figure()\n",
    "\n",
    "heat_layer = gmaps.heatmap_layer(zip_locations, \n",
    "                                 weights=income, \n",
    "                                 dissipating=False, \n",
    "                                 max_intensity=100,\n",
    "                                 point_radius = .1)\n",
    "\n",
    "fig.add_layer(heat_layer)\n",
    "fig.add_layer(theft_dots)\n",
    "\n",
    "fig"
   ]
  },
  {
   "cell_type": "code",
   "execution_count": null,
   "metadata": {},
   "outputs": [],
   "source": []
  },
  {
   "cell_type": "code",
   "execution_count": null,
   "metadata": {},
   "outputs": [],
   "source": []
  }
 ],
 "metadata": {
  "kernelspec": {
   "display_name": "Python 3",
   "language": "python",
   "name": "python3"
  },
  "language_info": {
   "codemirror_mode": {
    "name": "ipython",
    "version": 3
   },
   "file_extension": ".py",
   "mimetype": "text/x-python",
   "name": "python",
   "nbconvert_exporter": "python",
   "pygments_lexer": "ipython3",
   "version": "3.6.10"
  }
 },
 "nbformat": 4,
 "nbformat_minor": 4
}
