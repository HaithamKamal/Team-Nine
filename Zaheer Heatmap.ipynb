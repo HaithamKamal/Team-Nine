{
 "cells": [
  {
   "cell_type": "code",
   "execution_count": null,
   "metadata": {},
   "outputs": [],
   "source": [
    "# Dependencies\n",
    "import gmaps\n",
    "import numpy as np\n",
    "import pandas as pd\n",
    "import requests\n",
    "import time\n",
    "from us import states\n",
    "from scipy.stats import linregress\n",
    "from matplotlib import pyplot as plt\n",
    "\n",
    "from config_z import (gkey)"
   ]
  },
  {
   "cell_type": "code",
   "execution_count": null,
   "metadata": {},
   "outputs": [],
   "source": [
    "#File to Load (Remember to Change These)\n",
    "file_to_load = \"IRS_Data_2015_CSV.csv\"\n",
    "file_to_load_2 = \"MplsZipcodes.csv\"\n",
    "\n",
    "#Read Purchasing File and store into Pandas data frame\n",
    "IRS_data = pd.read_csv(file_to_load)\n",
    "Zip_data = pd.read_csv(file_to_load_2)"
   ]
  },
  {
   "cell_type": "code",
   "execution_count": null,
   "metadata": {},
   "outputs": [],
   "source": [
    "IRS_data = pd.read_csv('IRS_Data_2015_CSV.csv' , usecols = ['Zip codes','-1','-17'])"
   ]
  },
  {
   "cell_type": "code",
   "execution_count": null,
   "metadata": {},
   "outputs": [],
   "source": [
    "IRS_data = IRS_data.dropna()"
   ]
  },
  {
   "cell_type": "code",
   "execution_count": null,
   "metadata": {},
   "outputs": [],
   "source": [
    "IRS_data_fliterd = IRS_data.drop_duplicates('Zip codes')"
   ]
  },
  {
   "cell_type": "code",
   "execution_count": null,
   "metadata": {},
   "outputs": [],
   "source": [
    "IRS_data_cleaned = IRS_data_fliterd.rename (columns={\"-1\":\"Number of returns\",\"-17\":\"Total income amount\"})\n",
    "IRS_data_cleaned[\"Zip codes\"] = (IRS_data_cleaned[\"Zip codes\"]).astype(int)"
   ]
  },
  {
   "cell_type": "code",
   "execution_count": null,
   "metadata": {},
   "outputs": [],
   "source": []
  },
  {
   "cell_type": "code",
   "execution_count": null,
   "metadata": {},
   "outputs": [],
   "source": []
  },
  {
   "cell_type": "code",
   "execution_count": null,
   "metadata": {},
   "outputs": [],
   "source": []
  },
  {
   "cell_type": "code",
   "execution_count": null,
   "metadata": {},
   "outputs": [],
   "source": []
  },
  {
   "cell_type": "code",
   "execution_count": null,
   "metadata": {},
   "outputs": [],
   "source": []
  },
  {
   "cell_type": "code",
   "execution_count": null,
   "metadata": {},
   "outputs": [],
   "source": []
  },
  {
   "cell_type": "code",
   "execution_count": null,
   "metadata": {},
   "outputs": [],
   "source": [
    "csv_path = \"Police_Incidents_2015.csv\"\n",
    "police_data = pd.read_csv(csv_path)"
   ]
  },
  {
   "cell_type": "code",
   "execution_count": null,
   "metadata": {},
   "outputs": [],
   "source": [
    "police_data"
   ]
  },
  {
   "cell_type": "code",
   "execution_count": null,
   "metadata": {},
   "outputs": [],
   "source": [
    "theft_df = police_data.loc[police_data[\"Description\"] == \"Other Theft\",:]\n",
    "burg_dwell_df = police_data.loc[police_data[\"Description\"] == \"Burglary Of Dwelling\",:]\n",
    "tfmv_df = police_data.loc[police_data[\"Description\"] == \"Theft From Motr Vehc\",:]\n",
    "bike_theft = police_data.loc[police_data[\"Description\"] == \"Bike Theft\",:]"
   ]
  },
  {
   "cell_type": "code",
   "execution_count": null,
   "metadata": {},
   "outputs": [],
   "source": [
    "# Configure gmaps with API key\n",
    "gmaps.configure(api_key=gkey)"
   ]
  },
  {
   "cell_type": "code",
   "execution_count": null,
   "metadata": {},
   "outputs": [],
   "source": [
    "# Store 'Lat' and 'Lng' into  locations for theft\n",
    "locations_theft = theft_df[[\"Lat\", \"Long\"]].astype(float)"
   ]
  },
  {
   "cell_type": "code",
   "execution_count": null,
   "metadata": {},
   "outputs": [],
   "source": [
    "# Store 'Lat' and 'Lng' into  locations for burgulary\n",
    "locations_burg = burg_dwell_df[[\"Lat\", \"Long\"]].astype(float)"
   ]
  },
  {
   "cell_type": "code",
   "execution_count": null,
   "metadata": {},
   "outputs": [],
   "source": [
    "# Store 'Lat' and 'Lng' into  locations for theft from motor vehicle\n",
    "locations_tfmv = tfmv_df[[\"Lat\", \"Long\"]].astype(float)"
   ]
  },
  {
   "cell_type": "code",
   "execution_count": null,
   "metadata": {},
   "outputs": [],
   "source": [
    "# Store 'Lat' and 'Lng' into  locations for theft from motor vehicle\n",
    "locations_bike = bike_theft[[\"Lat\", \"Long\"]].astype(float)"
   ]
  },
  {
   "cell_type": "code",
   "execution_count": null,
   "metadata": {},
   "outputs": [],
   "source": [
    "# Create bank symbol layer\n",
    "theft_dots = gmaps.symbol_layer(\n",
    "    locations_theft, fill_color='rgba(0, 150, 0, 0.4)',\n",
    "    stroke_color='rgba(0, 150, 250, 0.4)', scale=1,)\n",
    "\n",
    "fig = gmaps.figure()\n",
    "fig.add_layer(theft_dots)\n",
    "fig"
   ]
  },
  {
   "cell_type": "code",
   "execution_count": null,
   "metadata": {},
   "outputs": [],
   "source": [
    "# Create bank symbol layer\n",
    "burg_dots = gmaps.symbol_layer(\n",
    "    locations_burg, fill_color='rgba(0, 150, 0, 0.4)',\n",
    "    stroke_color='rgba(150, 0, 0, 0.4)', scale=1,)\n",
    "\n",
    "fig = gmaps.figure()\n",
    "fig.add_layer(burg_dots)\n",
    "fig"
   ]
  },
  {
   "cell_type": "code",
   "execution_count": null,
   "metadata": {},
   "outputs": [],
   "source": [
    "# Create bank symbol layer\n",
    "tfmv_dots = gmaps.symbol_layer(\n",
    "    locations_tfmv, fill_color='rgba(0, 150, 0, 0.4)',\n",
    "    stroke_color='rgba(0, 0, 150, 0.4)', scale=1,)\n",
    "\n",
    "fig = gmaps.figure()\n",
    "fig.add_layer(tfmv_dots)\n",
    "fig"
   ]
  },
  {
   "cell_type": "code",
   "execution_count": null,
   "metadata": {},
   "outputs": [],
   "source": [
    "# Create bank symbol layer\n",
    "bike_dots = gmaps.symbol_layer(\n",
    "    locations_bike, fill_color='rgba(0, 150, 0, 0.4)',\n",
    "    stroke_color='rgba(0, 150, 0, 1)', scale=2,)\n",
    "\n",
    "fig = gmaps.figure()\n",
    "fig.add_layer(bike_dots)\n",
    "fig\n"
   ]
  },
  {
   "cell_type": "code",
   "execution_count": null,
   "metadata": {},
   "outputs": [],
   "source": []
  }
 ],
 "metadata": {
  "kernelspec": {
   "display_name": "Python 3",
   "language": "python",
   "name": "python3"
  },
  "language_info": {
   "codemirror_mode": {
    "name": "ipython",
    "version": 3
   },
   "file_extension": ".py",
   "mimetype": "text/x-python",
   "name": "python",
   "nbconvert_exporter": "python",
   "pygments_lexer": "ipython3",
   "version": "3.6.10"
  }
 },
 "nbformat": 4,
 "nbformat_minor": 4
}
